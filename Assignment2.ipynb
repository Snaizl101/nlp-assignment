{
 "cells": [
  {
   "cell_type": "markdown",
   "metadata": {
    "id": "view-in-github",
    "colab_type": "text"
   },
   "source": [
    "<a href=\"https://colab.research.google.com/github/Snaizl101/nlp-assignment/blob/main/Assignment2.ipynb\" target=\"_parent\"><img src=\"https://colab.research.google.com/assets/colab-badge.svg\" alt=\"Open In Colab\"/></a>"
   ]
  },
  {
   "cell_type": "markdown",
   "metadata": {
    "id": "63Ck6bLhWx82"
   },
   "source": [
    "Please fill out the information of your group!\n",
    "\n",
    "| <p style=\"text-align: center;\">First Name</p>  | <p style=\"text-align: center;\">Family Name</p> | Matr.-No. |\n",
    "| ---------------------------------------------- | ---------------------------------------------- | -------- |\n",
    "| <p style=\"text-align: left\">Felix</p>| <p style=\"text-align: left\">Herzberger</p> | 12117545 |\n",
    "| <p style=\"text-align: left\">David</p>| <p style=\"text-align: left\">*EDIT!*</p> | *EDIT!* |\n",
    "\n"
   ]
  },
  {
   "cell_type": "markdown",
   "metadata": {
    "id": "DQaSCGx1Wx83"
   },
   "source": [
    "<h2 style=\"text-align: center\">344.105/6/7 UE: Natural Language Processing (WS2023/24)</h2>\n",
    "<h1 style=\"color:rgb(0,120,170)\">Assignment 2</h1>\n",
    "<h2 style=\"color:rgb(0,120,170)\">Getting to Know Word Embedding!</h2>"
   ]
  },
  {
   "cell_type": "markdown",
   "metadata": {
    "id": "v3lHBv0WWx83"
   },
   "source": [
    "<b>Terms of Use</b><br>\n",
    "This  material is prepared for educational purposes at the Johannes Kepler University (JKU) Linz, and is exclusively provided to the registered students of the mentioned course at JKU. It is strictly forbidden to distribute the current file, the contents of the assignment, and its solution. The use or reproduction of this manuscript is only allowed for educational purposes in non-profit organizations, while in this case, the explicit prior acceptance of the author(s) is required.\n",
    "\n",
    "**Authors:** Shah Nawaz, Shahed Masoudian<br>\n"
   ]
  },
  {
   "cell_type": "markdown",
   "metadata": {
    "id": "5FYIIhDRWx83"
   },
   "source": [
    "<h2>Table of contents</h2>\n",
    "<ol>\n",
    "    <a href=\"#section-general-guidelines\"><li style=\"font-size:large;font-weight:bold\">General Guidelines</li></a>\n",
    "    <a href=\"#section-taskA\"><li style=\"font-size:large;font-weight:bold\">Task A: Words Similarity and Nearest Neighbors (15 points)</li></a>\n",
    "    <a href=\"#section-taskB\"><li style=\"font-size:large;font-weight:bold\">Task B: Document Classification with Word Embedding (15 points)</li></a>\n",
    "    <a href=\"#section-taskC\"><li style=\"font-size:large;font-weight:bold\">Task C: Classification with sent2vec Document Embeddings (2 extra point)</li></a>\n",
    "    <a href=\"#section-references\"><li style=\"font-size:large;font-weight:bold\">References</li></a>\n",
    "    \n",
    "</ol>"
   ]
  },
  {
   "cell_type": "markdown",
   "metadata": {
    "id": "aBeiq09yWx83"
   },
   "source": [
    "<a name=\"section-general-guidelines\"></a><h2 style=\"color:rgb(0,120,170)\">General Guidelines</h2>"
   ]
  },
  {
   "cell_type": "markdown",
   "metadata": {
    "id": "Olzxs-2YWx83"
   },
   "source": [
    "### Assignment objective\n",
    "The aim of this assignment is to get familiarized with using word embedding (WE) models in practice. The assignment in total has **30 points**; it also offers **2 extra points** which can cover any missing point.\n",
    "\n",
    "This Notebook encompasses all aspects of the assignment, namely the descriptions of tasks as well as your solutions and reports. Feel free to add any required cell for solutions. The cells can contain code, reports, charts, tables, or any other material, required for the assignment. Feel free to provide the solutions in an interactive and visual way!\n",
    "\n",
    "Please discuss any unclear point in the assignment in the provided forum in MOODLE. It is also encouraged to provide answers to your peer's questions. However when submitting a post, keep in mind to avoid providing solutions. Please let the tutor(s) know shall you find any error or unclarity in the assignment.\n"
   ]
  },
  {
   "cell_type": "markdown",
   "metadata": {
    "id": "h24N8tMcWx83"
   },
   "source": [
    "### Libraries & Dataset\n",
    "\n",
    "The assignment should be implemented with recent versions of `Python` (>3.7). Any standard Python library can be used, so far that the library is free and can be simply installed using `pip` or `conda`. Examples of potentially useful libraries are `scikit-learn`, `numpy`, `scipy`, `gensim`, `nltk`, `spaCy`, and `AllenNLP`. Use the latest stable version of each library.\n",
    "\n",
    "To conduct the experiments, we use a subset of the `HumSet` dataset [1] (https://blog.thedeep.io/humset/). `HumSet` is created by the DEEP (https://www.thedeep.io) project – an open source platform which aims to facilitate processing of textual data for international humanitarian response organizations. The platform enables the classification of text excerpts, extracted from news and reports into a set of domain specific classes. The provided dataset contains the classes (labels) referring to the humanitarian sectors like agriculture, health, and protection. The dataset contains an overall number of 17,301 data points.\n",
    "\n",
    "Download the dataset from the Moodle page of the course.\n",
    "\n",
    "the provided zip file consists of the following files:\n",
    "- `thedeep.subset.train.txt`: Train set in csv format with three fields: sentence_id, text, and label.\n",
    "- `thedeep.subset.validation.txt`: Validation set in csv format with three fields: sentence_id, text, and label.\n",
    "- `thedeep.subset.test.txt`: Test set in csv format with three fields: sentence_id, text, and label.\n",
    "- `thedeep.subset.label.txt`: Captions of the labels.\n",
    "- `thedeep.ToU.txt`: Terms of use of the dataset.\n",
    "\n",
    "[1] HumSet: Dataset of Multilingual Information Extraction and Classification for Humanitarian Crises Response\n",
    "*Selim Fekih, Nicolo' Tamagnone, Benjamin Minixhofer, Ranjan Shrestha, Ximena Contla, Ewan Oglethorpe and Navid Rekabsaz.*\n",
    "In Findings of the 2022 Conference on Empirical Methods in Natural Language Processing (Findings of EMNLP), December 2022.\n"
   ]
  },
  {
   "cell_type": "markdown",
   "metadata": {
    "id": "6CdN-mpQWx84"
   },
   "source": [
    "## Style\n",
    "\n",
    "- Please provide evidence at each state by giving print of the results, provide tables, graphs to further improve the quality of your report"
   ]
  },
  {
   "cell_type": "markdown",
   "metadata": {
    "id": "boQrl8R1Wx84"
   },
   "source": [
    "\n",
    "### Submission\n",
    "\n",
    "Each group should submit the following two files:\n",
    "\n",
    "- One Jupyter Notebook file (`.ipynb`), containing all the code, results, visualizations, etc. **In the submitted Notebook, all the results and visualizations should already be present, and can be observed simply by loading the Notebook in a browser.** The Notebook must be self-contained, meaning that (if necessary) one can run all the cells from top to bottom without any error. Do not forget to put in your names and student numbers in the first cell of the Notebook.\n",
    "- The HTML file (`.html`) achieved from exporting the Jupyter Notebook to HTML (Download As HTML).\n",
    "\n",
    "You do not need to include the data files in the submission.\n"
   ]
  },
  {
   "cell_type": "markdown",
   "metadata": {
    "id": "4vmhgfS6Wx84"
   },
   "source": [
    "<a name=\"section-taskA\"></a><h2 style=\"color:rgb(0,120,170)\">Task A: Words Similarity and Nearest Neighbors (15 points)</h2>"
   ]
  },
  {
   "cell_type": "markdown",
   "metadata": {
    "id": "mAojIyG3Wx84"
   },
   "source": [
    "\n",
    "**Loading a word embedding (WE) model (1 points).** Download a pre-trained word embedding model such as word2vec (https://code.google.com/archive/p/word2vec/) or GloVe (https://nlp.stanford.edu/projects/glove/). You can load the downloaded vectors into arrays, or use libraries such as `gensim` to download and process the vectors.\n",
    "\n",
    "**Calculating word-to-word similarities (4 points).** Select <ins>5 arbitrary words</ins> from 5 different topics like objects, science disciplines, verbs, adjectives, animals, etc. Let us refer to these words as *source words*. For each source word, calculate its cosine similarities to <ins>6 target words</ins>. The target words of each source word are also selected by you and should cover various levels of semantic relations – according to your linguistic judgement – to the source word, namely from highly-related to not related at all. Organize the target words in tables, such that the target words of each source word are sorted from the highest to the lowest relevance (according to your judgement). Consider the following points:\n",
    "\n",
    "- **Implementation (2/4 points):** Implement cosine similarity as a function that takes two vectors and returns the similarity score. Implement cosine by yourself and do NOT use the provided functionalities of any library.\n",
    "- **Reporting and observations (2/4 points):** Report the calculated similarities side by side with your word-to-word semantic relevance judgements in tables. Compare the results and report your observations.  \n",
    "\n",
    "**Calculating nearest neighbors (10 points).** For the 5 source words, retrieve the $k=10$ nearest neighbors using the word embedding model, namely the words with the highest similarities to the source word. Consider the following points:\n",
    "    \n",
    "- **Overall implementation (3/10 points):** your implemented function takes a source vector, a set of target vectors, and the $k$ parameter, and returns the $k$ nearest neighbors and their similarity scores. Implement nearest neighbor calculation by yourself and do NOT use the provided functionalities of any library.\n",
    "- **Similarity metrics (2/10 points):** execute the calculation of nearest neighbors according to <ins>two similarity metrics</ins> namely cosine and dot product.\n",
    "- **Efficiency (3/10 points):** your nearest neighbor functions should provide an *efficient* calculation of nearest neighbors. An inefficient way (which should be avoided!) would be looping over the set of vectors in the word embedding model, and one by one calculating the cosine/dot product similarity of the source vector to each of the target vectors. As a hint for an efficient way, consider that in `numpy` (and other libraries), calculating the dot product of a vector to a matrix is much faster than the dot products of the vector to each vector of the matrix.\n",
    "- **Reporting and observations (2/10 points):** report the results in tables, which enable comparing between the outputs of the two similarity metrics. Which similarity metric would you prefer? Report your observations.\n",
    "\n",
    "</div>"
   ]
  },
  {
   "cell_type": "markdown",
   "source": [
    "## Loading a word embedding:"
   ],
   "metadata": {
    "collapsed": false
   }
  },
  {
   "cell_type": "code",
   "execution_count": 25,
   "metadata": {
    "id": "iJqfnpNLWx84",
    "ExecuteTime": {
     "end_time": "2024-11-30T16:56:27.580700Z",
     "start_time": "2024-11-30T16:56:27.540913Z"
    }
   },
   "outputs": [],
   "source": [
    "import numpy as np\n",
    "from gensim.scripts.glove2word2vec import glove2word2vec\n",
    "from gensim.models import KeyedVectors\n",
    "from tabulate import tabulate"
   ]
  },
  {
   "cell_type": "code",
   "execution_count": 8,
   "outputs": [
    {
     "name": "stderr",
     "output_type": "stream",
     "text": [
      "/var/folders/5l/n8f1d8ls1ll5fwwwg60m0qdw0000gn/T/ipykernel_82205/923050346.py:6: DeprecationWarning: Call to deprecated `glove2word2vec` (KeyedVectors.load_word2vec_format(.., binary=False, no_header=True) loads GLoVE text vectors.).\n",
      "  glove2word2vec('glove.6B/glove.6B.100d.txt', 'glove_w2v.txt')\n"
     ]
    }
   ],
   "source": [
    "# Convert GloVe to Word2Vec format (using the 100d version)\n",
    "glove2word2vec('glove.6B/glove.6B.100d.txt', 'glove_w2v.txt')\n",
    "\n",
    "# Load vectors\n",
    "model = KeyedVectors.load_word2vec_format('glove_w2v.txt')"
   ],
   "metadata": {
    "collapsed": false,
    "ExecuteTime": {
     "start_time": "2024-11-30T15:25:57.781441Z"
    }
   }
  },
  {
   "cell_type": "markdown",
   "source": [
    "## Calculating word-to-word similarities"
   ],
   "metadata": {
    "collapsed": false
   }
  },
  {
   "cell_type": "code",
   "execution_count": 27,
   "outputs": [],
   "source": [
    "# Define 5 words and corresponding target words\n",
    "words = {\n",
    "    'apple': [\n",
    "        'pear',  # very similar (fruit)\n",
    "        'fruit',  # category \n",
    "        'cake',  # related usage\n",
    "        'phone',  # different meaning\n",
    "        'prison',  # unrelated\n",
    "        'church'  # completely unrelated\n",
    "    ],\n",
    "    'dog': [\n",
    "        'cat',  # very similar (pet)\n",
    "        'animal',  # category\n",
    "        'bark',  # related action \n",
    "        'leash',  # related object\n",
    "        'pencil',  # unrelated\n",
    "        'algebra'  # completely unrelated\n",
    "    ],\n",
    "    'computer': [\n",
    "        'laptop',  # very similar\n",
    "        'technology',  # category\n",
    "        'program',  # related action\n",
    "        'screen',  # related part\n",
    "        'banana',  # unrelated\n",
    "        'cloud'  # different meaning\n",
    "    ],\n",
    "    'germany': [\n",
    "        'france',  # very similar (country)\n",
    "        'country',  # category\n",
    "        'berlin',  # related (capital)\n",
    "        'beer',  # related (culture)\n",
    "        'pencil',  # unrelated\n",
    "        'sleep'  # completely unrelated\n",
    "    ],\n",
    "    'biology': [\n",
    "        'chemistry',  # very similar (science)\n",
    "        'science',  # category\n",
    "        'cells',  # related concept\n",
    "        'microscope',  # related tool\n",
    "        'piano',  # unrelated\n",
    "        'dream'  # completely unrelated\n",
    "    ]\n",
    "}"
   ],
   "metadata": {
    "collapsed": false,
    "ExecuteTime": {
     "end_time": "2024-11-30T17:07:35.911809Z",
     "start_time": "2024-11-30T17:07:35.906729Z"
    }
   }
  },
  {
   "cell_type": "markdown",
   "source": [
    "### Implement cosine-similarity "
   ],
   "metadata": {
    "collapsed": false
   }
  },
  {
   "cell_type": "code",
   "execution_count": 28,
   "outputs": [],
   "source": [
    "def dot(a: np.ndarray, b: np.ndarray):\n",
    "    return sum([i * j for i, j in zip(a, b)])\n",
    "\n",
    "\n",
    "def norm(a: np.ndarray):\n",
    "    return (sum([i ** 2 for i in a])) ** 0.5\n",
    "\n",
    "\n",
    "def cos_similarity(x: np.ndarray, y: np.ndarray):\n",
    "    nominator = dot(x, y)\n",
    "    denominator = norm(x) * norm(y)\n",
    "    return nominator / denominator"
   ],
   "metadata": {
    "collapsed": false,
    "ExecuteTime": {
     "end_time": "2024-11-30T17:07:36.750511Z",
     "start_time": "2024-11-30T17:07:36.741600Z"
    }
   }
  },
  {
   "cell_type": "markdown",
   "source": [
    "### Reporting and Observation"
   ],
   "metadata": {
    "collapsed": false
   }
  },
  {
   "cell_type": "code",
   "execution_count": 29,
   "outputs": [],
   "source": [
    "results: dict = {word: {} for word in words}\n",
    "\n",
    "for key_word, target_words in words.items():\n",
    "    key_vector = model[key_word]  # get vector for key_word\n",
    "    for target in target_words:\n",
    "        target_vector = model[target]  # get vector for target word\n",
    "        results[key_word][target] = cos_similarity(key_vector, target_vector)"
   ],
   "metadata": {
    "collapsed": false,
    "ExecuteTime": {
     "end_time": "2024-11-30T17:07:38.192632Z",
     "start_time": "2024-11-30T17:07:38.190747Z"
    }
   }
  },
  {
   "cell_type": "code",
   "execution_count": 30,
   "outputs": [
    {
     "name": "stdout",
     "output_type": "stream",
     "text": [
      "| Source   | Target     |   Cosine Similarity |\n",
      "|:---------|:-----------|--------------------:|\n",
      "| apple    | pear       |               0.589 |\n",
      "| apple    | fruit      |               0.536 |\n",
      "| apple    | cake       |               0.442 |\n",
      "| apple    | phone      |               0.456 |\n",
      "| apple    | prison     |               0.093 |\n",
      "| apple    | church     |               0.191 |\n",
      "| dog      | cat        |               0.88  |\n",
      "| dog      | animal     |               0.682 |\n",
      "| dog      | bark       |               0.376 |\n",
      "| dog      | leash      |               0.489 |\n",
      "| dog      | pencil     |               0.289 |\n",
      "| dog      | algebra    |              -0.093 |\n",
      "| computer | laptop     |               0.702 |\n",
      "| computer | technology |               0.764 |\n",
      "| computer | program    |               0.546 |\n",
      "| computer | screen     |               0.593 |\n",
      "| computer | banana     |               0.121 |\n",
      "| computer | cloud      |               0.375 |\n",
      "| germany  | france     |               0.729 |\n",
      "| germany  | country    |               0.527 |\n",
      "| germany  | berlin     |               0.729 |\n",
      "| germany  | beer       |               0.198 |\n",
      "| germany  | pencil     |               0.028 |\n",
      "| germany  | sleep      |               0.095 |\n",
      "| biology  | chemistry  |               0.806 |\n",
      "| biology  | science    |               0.738 |\n",
      "| biology  | cells      |               0.386 |\n",
      "| biology  | microscope |               0.247 |\n",
      "| biology  | piano      |               0.277 |\n",
      "| biology  | dream      |               0.163 |\n"
     ]
    }
   ],
   "source": [
    "table_data = []\n",
    "for source, target_dict in results.items():\n",
    "    for target, similarity in target_dict.items():\n",
    "        row = [source, target, f\"{similarity:.3f}\"]\n",
    "        table_data.append(row)\n",
    "\n",
    "headers = [\"Source\", \"Target\", \"Cosine Similarity\"]\n",
    "print(tabulate(table_data, headers=headers, tablefmt=\"pipe\"))"
   ],
   "metadata": {
    "collapsed": false,
    "ExecuteTime": {
     "end_time": "2024-11-30T17:07:39.634278Z",
     "start_time": "2024-11-30T17:07:39.621639Z"
    }
   }
  },
  {
   "cell_type": "markdown",
   "source": [
    "The cosine scores reveal interesting patterns in the data acroos the word pairs. \n",
    "\n",
    "1. Highest similarities (0.7 - 0.9) occur generally between the same semantic category like:\n",
    "    * dog-cat \n",
    "    * germany - france \n",
    "    * computer - laptop\n",
    "    * biology - chemistry    \n",
    "\n",
    "2. Related category terms show a strong but slightly lower similarity (0.5 -0.7):\n",
    "    * germany - country\n",
    "    * apple - fruit\n",
    "    * computer - technology\n",
    "    * dog - animal\n",
    "    * biology - science\n",
    "\n",
    "3. Related concepts show moderate similarities (0.3 - 0.5):\n",
    "    * computer - program\n",
    "    * dog - leash\n",
    "    * apple - cake\n",
    "    * biology - cells\n",
    "    * dog - bark\n",
    "\n",
    "4. As expected unrelated terms show very weak similarities (-0.1 - 0.3):\n",
    "    * dog - pencil\n",
    "    * apple - church \n",
    "    * computer - banana\n",
    "    * biology - dream"
   ],
   "metadata": {
    "collapsed": false
   }
  },
  {
   "cell_type": "markdown",
   "source": [
    "## Calculating Nearest Neighbors"
   ],
   "metadata": {
    "collapsed": false
   }
  },
  {
   "cell_type": "code",
   "execution_count": 48,
   "outputs": [],
   "source": [
    "def knn(src_vector: np.ndarray, all_vectors: np.ndarray, k=10, sim_type: str = 'cos'):\n",
    "    if sim_type == 'cos':\n",
    "        similarities = src_vector @ all_vectors.T / (np.linalg.norm(src_vector) * np.linalg.norm(all_vectors, axis=1))\n",
    "    else:\n",
    "        similarities = src_vector @ all_vectors.T\n",
    "\n",
    "    # Get sorted indices\n",
    "    sorted_indices = np.argsort(similarities)[::-1]\n",
    "    sorted_similarities = similarities[sorted_indices]\n",
    "\n",
    "    # Remove the first index (which should be the source word)\n",
    "    nearest_indices = sorted_indices[1:k + 1]\n",
    "    nearest_similarities = sorted_similarities[1:k + 1]\n",
    "\n",
    "    return nearest_indices, nearest_similarities"
   ],
   "metadata": {
    "collapsed": false,
    "ExecuteTime": {
     "end_time": "2024-12-01T14:43:42.351201Z",
     "start_time": "2024-12-01T14:43:42.347239Z"
    }
   }
  },
  {
   "cell_type": "markdown",
   "source": [
    "### Report Observations"
   ],
   "metadata": {
    "collapsed": false
   }
  },
  {
   "cell_type": "code",
   "execution_count": 49,
   "outputs": [
    {
     "name": "stdout",
     "output_type": "stream",
     "text": [
      "\n",
      "Comparison of nearest neighbors for 'dog':\n",
      "| Cosine NN   |   Cos Sim | Dot Product NN   |   Dot Sim |\n",
      "|:------------|----------:|:-----------------|----------:|\n",
      "| cat         |     0.88  | dogs             |    26.494 |\n",
      "| dogs        |     0.834 | cat              |    24.997 |\n",
      "| pet         |     0.745 | horse            |    23.033 |\n",
      "| puppy       |     0.724 | pet              |    22.89  |\n",
      "| horse       |     0.711 | animal           |    21.904 |\n",
      "| animal      |     0.682 | meat             |    21.118 |\n",
      "| pig         |     0.655 | animals          |    20.875 |\n",
      "| boy         |     0.655 | cow              |    20.374 |\n",
      "| cats        |     0.647 | boy              |    19.983 |\n",
      "| rabbit      |     0.647 | your             |    19.89  |\n"
     ]
    }
   ],
   "source": [
    "# To compare both similarity metrics in one table:\n",
    "n_idx_cos, sim_cos = knn(src_vector=model['dog'], all_vectors=model.vectors, sim_type='cos')\n",
    "n_idx_dot, sim_dot = knn(src_vector=model['dog'], all_vectors=model.vectors, sim_type='dot')\n",
    "\n",
    "# Get words for both metrics\n",
    "words_cos = [model.index_to_key[idx] for idx in n_idx_cos]\n",
    "words_dot = [model.index_to_key[idx] for idx in n_idx_dot]\n",
    "\n",
    "# Create comparison table data\n",
    "comparison_data = []\n",
    "for i in range(len(words_cos)):\n",
    "    comparison_data.append([\n",
    "        words_cos[i],\n",
    "        f\"{sim_cos[i]:.3f}\",\n",
    "        words_dot[i],\n",
    "        f\"{sim_dot[i]:.3f}\"\n",
    "    ])\n",
    "\n",
    "# Define headers for comparison\n",
    "comparison_headers = [\"Cosine NN\", \"Cos Sim\", \"Dot Product NN\", \"Dot Sim\"]\n",
    "\n",
    "print(f\"\\nComparison of nearest neighbors for 'dog':\")\n",
    "print(tabulate(comparison_data, headers=comparison_headers, tablefmt=\"pipe\"))"
   ],
   "metadata": {
    "collapsed": false,
    "ExecuteTime": {
     "end_time": "2024-12-01T14:43:43.726217Z",
     "start_time": "2024-12-01T14:43:43.029472Z"
    }
   }
  },
  {
   "cell_type": "markdown",
   "source": [
    "The cos similarity is the better metric, due to the fact that it is in a standardized range (-1 to 1) compared to the dot similarity and therefore more easily interpretable.\n",
    " \n",
    "Also as can be seen by the table the dot similarity includes some less relevant words like \"your\" and \"meat\" in the top 10. "
   ],
   "metadata": {
    "collapsed": false
   }
  },
  {
   "cell_type": "markdown",
   "metadata": {
    "id": "sJujTEXZWx84"
   },
   "source": [
    "<a name=\"section-taskB\"></a><h2 style=\"color:rgb(0,120,170)\">Task B: Document Classification with WE (15 points)</h2>"
   ]
  },
  {
   "cell_type": "markdown",
   "metadata": {
    "id": "XypqFIKHWx84"
   },
   "source": [
    "\n",
    "This task follows the same instruction for document classification as provided in Assignment 1. You are indeed free to reuse any part of your code in Assignment 1 for this task. In Assignment 1, the representation of each document was created using a bag of words representation followed by dimensionality reduction. In this task, the document representations are created from the pre-trained word embeddings.\n",
    "\n",
    "**Map word embeddings to dictionary words (5 points).** For every word in the dictionary (as discussed and created in Assignment 1), fetch the corresponding word embedding from the pre-trained model. If no embedding is found, initialize the corresponding word embedding randomly.\n",
    "\n",
    "**Document embedding as the average of word embeddings (5 points).** Using the word embeddings, the representation of each document is defined as the *mean of the vectors of each document's words*. In particular, given the document $d$, consisting of words $\\left[ v_1, v_2, ..., v_{|d|} \\right]$, the document representation $\\mathbf{e}_d$ is defined as:\n",
    "\n",
    "$\\mathbf{e}_d = \\frac{1}{|d|}\\sum_{i=1}^{|d|}{\\mathbf{e}_{v_i}}$\n",
    "\n",
    "where $\\mathbf{e}_{v}$ is the vector of the word $v$, and $|d|$ is the length of the document.\n",
    "\n",
    "**Classification and evaluation (5 points)** Using these new document representations, apply <ins>three classification algorithms</ins> and report the evaluation results (based on accuracy metric) on the test set.\n",
    "\n"
   ]
  },
  {
   "cell_type": "markdown",
   "source": [
    "## Markdown title here with double # improves structure"
   ],
   "metadata": {
    "collapsed": false
   }
  },
  {
   "cell_type": "code",
   "execution_count": null,
   "metadata": {
    "id": "TMLsDuLAWx84"
   },
   "outputs": [],
   "source": []
  },
  {
   "cell_type": "markdown",
   "metadata": {
    "id": "ODZ5DxacWx84"
   },
   "source": [
    "<a name=\"section-taskC\"></a><h2 style=\"color:rgb(0,120,170)\">Task C: Classification with sent2vec Document Embeddings (2 extra point)</h2>"
   ]
  },
  {
   "cell_type": "markdown",
   "metadata": {
    "id": "9lhskLk4Wx84"
   },
   "source": [
    "\n",
    "Sent2vec [1] suggests another unsupervised approach to creating document embeddings from the underlying word embeddings. First, using the provided code in the paper, train a sendtvec model on the training set to create document embeddings. Then, repeat Task B while using the document embeddings provided by sent2vec. Similar to Task 2, conduct the classification experiments and report evaluation results.\n",
    "\n",
    "[1] M. Pagliardini, P. Gupta, and M. Jaggi. Unsupervised Learning of Sentence Embeddings using Compositional n-Gram Features. In Proceedings of the conference of the North American Chapter of the Association for Computational Linguistics (NAACL), 2018.\n"
   ]
  },
  {
   "cell_type": "code",
   "execution_count": null,
   "metadata": {
    "id": "Yl7MQxTAWx84"
   },
   "outputs": [],
   "source": []
  },
  {
   "cell_type": "code",
   "execution_count": null,
   "metadata": {
    "id": "nXw0CqKbWx84"
   },
   "outputs": [],
   "source": []
  }
 ],
 "metadata": {
  "kernelspec": {
   "display_name": "Python 3 (ipykernel)",
   "language": "python",
   "name": "python3"
  },
  "language_info": {
   "codemirror_mode": {
    "name": "ipython",
    "version": 3
   },
   "file_extension": ".py",
   "mimetype": "text/x-python",
   "name": "python",
   "nbconvert_exporter": "python",
   "pygments_lexer": "ipython3",
   "version": "3.11.10"
  },
  "colab": {
   "provenance": [],
   "include_colab_link": true
  }
 },
 "nbformat": 4,
 "nbformat_minor": 0
}
